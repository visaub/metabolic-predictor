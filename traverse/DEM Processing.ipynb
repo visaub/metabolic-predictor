{
 "cells": [
  {
   "cell_type": "code",
   "execution_count": 2,
   "metadata": {},
   "outputs": [],
   "source": [
    "import numpy as np\n",
    "import matplotlib.pyplot as plt\n",
    "import seaborn as sns\n",
    "import geopandas as gpd\n",
    "\n",
    "import pandas as pd\n",
    "import pyproj\n",
    "import folium\n",
    "from shapely import geometry\n",
    "import elevation\n",
    "\n",
    "\n",
    "%matplotlib inline"
   ]
  },
  {
   "cell_type": "code",
   "execution_count": 6,
   "metadata": {},
   "outputs": [
    {
     "name": "stdout",
     "output_type": "stream",
     "text": [
      "['line', 'fid', 'time', 'day', 'year', 'latitude', 'longitude', 'radalt', 'totmag', 'resmag', 'diurnal', 'geology']\n"
     ]
    }
   ],
   "source": [
    "column_names = 'line fid time day year latitude longitude radalt totmag resmag diurnal geology'.split(' ') \n",
    "print column_names\n"
   ]
  },
  {
   "cell_type": "code",
   "execution_count": 9,
   "metadata": {
    "scrolled": true
   },
   "outputs": [
    {
     "data": {
      "text/html": [
       "<div>\n",
       "<style scoped>\n",
       "    .dataframe tbody tr th:only-of-type {\n",
       "        vertical-align: middle;\n",
       "    }\n",
       "\n",
       "    .dataframe tbody tr th {\n",
       "        vertical-align: top;\n",
       "    }\n",
       "\n",
       "    .dataframe thead th {\n",
       "        text-align: right;\n",
       "    }\n",
       "</style>\n",
       "<table border=\"1\" class=\"dataframe\">\n",
       "  <thead>\n",
       "    <tr style=\"text-align: right;\">\n",
       "      <th></th>\n",
       "      <th>latitude</th>\n",
       "      <th>longitude</th>\n",
       "      <th>totmag</th>\n",
       "    </tr>\n",
       "  </thead>\n",
       "  <tbody>\n",
       "    <tr>\n",
       "      <th>0</th>\n",
       "      <td>39.5025</td>\n",
       "      <td>-123.7861</td>\n",
       "      <td>51518.9</td>\n",
       "    </tr>\n",
       "    <tr>\n",
       "      <th>1</th>\n",
       "      <td>39.5025</td>\n",
       "      <td>-123.7858</td>\n",
       "      <td>51518.9</td>\n",
       "    </tr>\n",
       "    <tr>\n",
       "      <th>2</th>\n",
       "      <td>39.5025</td>\n",
       "      <td>-123.7854</td>\n",
       "      <td>51518.9</td>\n",
       "    </tr>\n",
       "    <tr>\n",
       "      <th>3</th>\n",
       "      <td>39.5025</td>\n",
       "      <td>-123.7851</td>\n",
       "      <td>51518.9</td>\n",
       "    </tr>\n",
       "    <tr>\n",
       "      <th>4</th>\n",
       "      <td>39.5025</td>\n",
       "      <td>-123.7848</td>\n",
       "      <td>51518.9</td>\n",
       "    </tr>\n",
       "  </tbody>\n",
       "</table>\n",
       "</div>"
      ],
      "text/plain": [
       "   latitude  longitude   totmag\n",
       "0   39.5025  -123.7861  51518.9\n",
       "1   39.5025  -123.7858  51518.9\n",
       "2   39.5025  -123.7854  51518.9\n",
       "3   39.5025  -123.7851  51518.9\n",
       "4   39.5025  -123.7848  51518.9"
      ]
     },
     "execution_count": 9,
     "metadata": {},
     "output_type": "execute_result"
    }
   ],
   "source": [
    "mag_data = pd.read_csv('./raw/east_west_tie_mag.xyz.gz', delim_whitespace=True, names=column_names, usecols=['latitude', 'longitude', 'totmag'])\n",
    "mag_data.head() # This shows the first 5 entries of the DF."
   ]
  },
  {
   "cell_type": "code",
   "execution_count": 11,
   "metadata": {},
   "outputs": [],
   "source": [
    "import gdal\n",
    "import numpy as np\n",
    "import matplotlib.pyplot as plt\n",
    "\n",
    "from pygeotools.lib import iolib, warplib, geolib, timelib, malib\n",
    "\n",
    "#Function to generate a 3-panel plot for input arrays\n",
    "def plot3panel(dem_list, clim=None, titles=None, cmap='inferno', label=None, overlay=None, fn=None):\n",
    "    fig, axa = plt.subplots(1,3, sharex=True, sharey=True, figsize=(10,5))\n",
    "    alpha = 1.0\n",
    "    for n, ax in enumerate(axa):\n",
    "        #Gray background\n",
    "        ax.set_facecolor('0.5')\n",
    "        #Force aspect ratio to match images\n",
    "        ax.set(adjustable='box-forced', aspect='equal')\n",
    "        #Turn off axes labels/ticks\n",
    "        ax.get_xaxis().set_visible(False)\n",
    "        ax.get_yaxis().set_visible(False)\n",
    "        if titles is not None:\n",
    "            ax.set_title(titles[n])\n",
    "        #Plot background shaded relief map\n",
    "        if overlay is not None:\n",
    "            alpha = 0.7\n",
    "            axa[n].imshow(overlay[n], cmap='gray', clim=(1,255)) \n",
    "    #Plot each array \n",
    "    im_list = [axa[i].imshow(dem_list[i], clim=clim, cmap=cmap, alpha=alpha) for i in range(len(dem_list))]\n",
    "    fig.tight_layout()\n",
    "    fig.colorbar(im_list[0], ax=axa.ravel().tolist(), label=label, extend='both', shrink=0.5)\n",
    "    if fn is not None:\n",
    "        fig.savefig(fn, bbox_inches='tight', pad_inches=0, dpi=150)"
   ]
  }
 ],
 "metadata": {
  "kernelspec": {
   "display_name": "Python 2",
   "language": "python",
   "name": "python2"
  },
  "language_info": {
   "codemirror_mode": {
    "name": "ipython",
    "version": 2
   },
   "file_extension": ".py",
   "mimetype": "text/x-python",
   "name": "python",
   "nbconvert_exporter": "python",
   "pygments_lexer": "ipython2",
   "version": "2.7.15"
  }
 },
 "nbformat": 4,
 "nbformat_minor": 2
}
